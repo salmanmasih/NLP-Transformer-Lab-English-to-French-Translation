{
 "cells": [
  {
   "cell_type": "markdown",
   "id": "67a0b888",
   "metadata": {
    "deletable": false,
    "editable": false,
    "nbgrader": {
     "cell_type": "markdown",
     "checksum": "1fae50f247e5e43f585364d8fecf5817",
     "grade": false,
     "grade_id": "cell-85a7d91abf0617c9",
     "locked": true,
     "schema_version": 3,
     "solution": false,
     "task": false
    }
   },
   "source": [
    "# Finetuning Transformer Models for Machine Translation\n",
    "\n",
    "In the previous assignment, you learned the transformer architecture and trained one from scratch. In this assignment, you will finetune a pre-trained transformer model for machine translation. You will explore dataset preparation, tokenization, model training, and evaluation using the Hugging Face transformers library. The goal is to adapt an existing model to translate between a specific language pair, optimizing its performance on a given dataset. By the end of this assignment, you will have a deeper understanding of transfer learning and how to effectively finetune transformers for NLP tasks using Hugging Face.\n",
    "\n",
    "For the purpose of this assignment, we will be using the MarianMT transformer model (https://aclanthology.org/P18-4020.pdf) for the English to French translation task. The dataset of sentence pairs has been provided to you."
   ]
  },
  {
   "cell_type": "markdown",
   "id": "5be4e7eb",
   "metadata": {
    "deletable": false,
    "editable": false,
    "nbgrader": {
     "cell_type": "markdown",
     "checksum": "eb4249459e56774357f5a862bd845103",
     "grade": false,
     "grade_id": "cell-d866b3cd7e02330d",
     "locked": true,
     "schema_version": 3,
     "solution": false,
     "task": false
    }
   },
   "source": [
    "# 1. Introduction and Setup\n",
    "\n",
    "For demonstration purposes, we'll use Hugging Face's Transformers library to finetune an English-to-French translation model.\n",
    "\n",
    "This example requires:\n",
    "   - transformers\n",
    "   - datasets\n",
    "   - sentencepiece\n",
    "\n",
    "If you are doing this on your local system, you can install them via: !pip install transformers datasets sentencepiece evaluate sacrebleu\n",
    "\n",
    "This assignment will resemble a real-world coding/finetuning scenario where you will have to constantly look up documentation and use pre-written functions to train a model.\n",
    "\n",
    "Start by reading about the MarianMTModel and the MarianTokenizer here: https://huggingface.co/docs/transformers/en/model_doc/marian"
   ]
  },
  {
   "cell_type": "code",
   "execution_count": 1,
   "id": "3bfbe38d",
   "metadata": {
    "deletable": false,
    "editable": false,
    "nbgrader": {
     "cell_type": "code",
     "checksum": "0553b19108b4710d141e32f6b62b633b",
     "grade": false,
     "grade_id": "cell-6a5fb4796406833b",
     "locked": true,
     "schema_version": 3,
     "solution": false,
     "task": false
    }
   },
   "outputs": [
    {
     "name": "stdout",
     "output_type": "stream",
     "text": [
      "1. Setting up dependencies...\n",
      "\n"
     ]
    }
   ],
   "source": [
    "# 1. Setup and Dependencies\n",
    "print(\"1. Setting up dependencies...\\n\")\n",
    "\n",
    "# Start by importing the required libraries:\n",
    "import pandas as pd\n",
    "import numpy as np\n",
    "import torch\n",
    "from datasets import Dataset\n",
    "from transformers import (\n",
    "    MarianMTModel,\n",
    "    MarianTokenizer,\n",
    "    DataCollatorForSeq2Seq,\n",
    "    TrainingArguments,\n",
    "    Trainer,\n",
    "    EarlyStoppingCallback\n",
    ")\n",
    "from evaluate import load\n",
    "from sklearn.model_selection import train_test_split\n",
    "from datetime import datetime"
   ]
  },
  {
   "cell_type": "markdown",
   "id": "4e37add5",
   "metadata": {
    "deletable": false,
    "editable": false,
    "nbgrader": {
     "cell_type": "markdown",
     "checksum": "5a2dab044b73b9569f59684ce094a643",
     "grade": false,
     "grade_id": "cell-a97456c2557bb69a",
     "locked": true,
     "schema_version": 3,
     "solution": false,
     "task": false
    }
   },
   "source": [
    "In this section, you'll load and prepare a dataset of English-French sentence pairs for training."
   ]
  },
  {
   "cell_type": "code",
   "execution_count": 2,
   "id": "ad1b9f2b",
   "metadata": {
    "deletable": false,
    "editable": false,
    "nbgrader": {
     "cell_type": "code",
     "checksum": "0e6bed98fd4f1cb9f1dd6fe37dbde62a",
     "grade": false,
     "grade_id": "cell-845b37e56fb65318",
     "locked": true,
     "schema_version": 3,
     "solution": false,
     "task": false
    }
   },
   "outputs": [
    {
     "name": "stdout",
     "output_type": "stream",
     "text": [
      "2. Loading and preparing data...\n",
      "\n",
      "DataFrame of parallel sentences:\n",
      "     en          fr\n",
      "0   Hi.      Salut!\n",
      "1  Run!     Cours !\n",
      "2  Run!    Courez !\n",
      "3  Who?       Qui ?\n",
      "4  Wow!  Ça alors !\n",
      "Total examples: 500\n"
     ]
    }
   ],
   "source": [
    "# 2. Data Preparation\n",
    "print(\"2. Loading and preparing data...\\n\")\n",
    "\n",
    "# Load the dataset\n",
    "data = pd.read_csv(\"eng-french.csv\")\n",
    "df = pd.DataFrame(data[0:500])\n",
    "df.columns = [\"en\", \"fr\"]\n",
    "\n",
    "print(\"DataFrame of parallel sentences:\")\n",
    "print(df.head())\n",
    "print(f\"Total examples: {len(df)}\")"
   ]
  },
  {
   "cell_type": "markdown",
   "id": "6348c59b",
   "metadata": {
    "deletable": false,
    "editable": false,
    "nbgrader": {
     "cell_type": "markdown",
     "checksum": "fcfde930cba50a8634759e3d2aec478d",
     "grade": false,
     "grade_id": "cell-174eebf9546e2afe",
     "locked": true,
     "schema_version": 3,
     "solution": false,
     "task": false
    }
   },
   "source": [
    "Next, convert your DataFrame to a Hugging Face Dataset and split it into training, validation, and test sets."
   ]
  },
  {
   "cell_type": "code",
   "execution_count": 3,
   "id": "b41550db",
   "metadata": {
    "deletable": false,
    "nbgrader": {
     "cell_type": "code",
     "checksum": "19e0df40a3e9f186ce02db92b0e98b51",
     "grade": false,
     "grade_id": "cell-20e1e8c49d1f872d",
     "locked": false,
     "schema_version": 3,
     "solution": true,
     "task": false
    }
   },
   "outputs": [
    {
     "name": "stdout",
     "output_type": "stream",
     "text": [
      "\n",
      "Split sizes:\n",
      "Training samples: 382\n",
      "Validation samples: 68\n",
      "Test samples: 50\n"
     ]
    }
   ],
   "source": [
    "# TODO: Create a HuggingFace Dataset from the DataFrame\n",
    "# HINT: Use Dataset.from_pandas() function\n",
    "# dataset = # YOUR CODE HERE\n",
    "# your code here\n",
    "dataset = Dataset.from_pandas(df)\n",
    "\n",
    "# TODO: Split the data into train/test with test_size=0.1\n",
    "# splits = # YOUR CODE HERE\n",
    "# your code here\n",
    "splits = dataset.train_test_split(test_size=0.1, seed=42)\n",
    "\n",
    "train_val_dataset = splits['train']\n",
    "test_dataset = splits['test']\n",
    "\n",
    "# TODO: Further split train into train and validation with test_size=0.15\n",
    "# splits = # YOUR CODE HERE\n",
    "# your code here\n",
    "splits = train_val_dataset.train_test_split(test_size=0.15, seed=42)\n",
    "\n",
    "train_dataset = splits['train']\n",
    "valid_dataset = splits['test']\n",
    "\n",
    "print(f\"\\nSplit sizes:\")\n",
    "print(f\"Training samples: {len(train_dataset)}\")\n",
    "print(f\"Validation samples: {len(valid_dataset)}\")\n",
    "print(f\"Test samples: {len(test_dataset)}\")\n"
   ]
  },
  {
   "cell_type": "markdown",
   "id": "7102a9d6",
   "metadata": {
    "deletable": false,
    "editable": false,
    "nbgrader": {
     "cell_type": "markdown",
     "checksum": "6fc4a8d704e93170fd7e8d640c0ed5b1",
     "grade": false,
     "grade_id": "cell-cc1f3d6c386811eb",
     "locked": true,
     "schema_version": 3,
     "solution": false,
     "task": false
    }
   },
   "source": [
    "# Model and Tokenizer Initialization\n",
    "\n",
    "MarianMT is based on the Transformer architecture with:\n",
    "- An encoder that processes the source language\n",
    "- A decoder that generates the target language\n",
    "- Multi-head attention mechanisms that capture relationships between words\n",
    "- Language-specific embeddings for both source and target languages\n",
    "\n",
    "This model was pre-trained on large parallel corpora (texts translated between languages),\n",
    "giving it strong translation capabilities even before fine-tuning. Our fine-tuning process\n",
    "adapts this general knowledge to our specific English-French dataset.\n",
    "\n",
    "When we load 'Helsinki-NLP/opus-mt-en-fr', we're getting a model specifically pre-trained\n",
    "on English-to-French translation, which gives us a strong starting point.\n",
    "\n",
    "Load a pre-trained MarianMT model and its corresponding tokenizer for English-to-French translation:"
   ]
  },
  {
   "cell_type": "code",
   "execution_count": 4,
   "id": "0fff33f1",
   "metadata": {
    "deletable": false,
    "nbgrader": {
     "cell_type": "code",
     "checksum": "851e5b20f4accf7d0ae06741c011ed65",
     "grade": false,
     "grade_id": "cell-9aba0007ef4c5e45",
     "locked": false,
     "schema_version": 3,
     "solution": true,
     "task": false
    }
   },
   "outputs": [
    {
     "name": "stdout",
     "output_type": "stream",
     "text": [
      "\n",
      "3. Loading model and tokenizer...\n",
      "\n"
     ]
    }
   ],
   "source": [
    "print(\"\\n3. Loading model and tokenizer...\\n\")\n",
    "model_path = \"./opus-mt-en-fr\"\n",
    "\n",
    "# TODO: Load the tokenizer using MarianTokenizer.from_pretrained()\n",
    "# tokenizer = # YOUR CODE HERE\n",
    "# your code here\n",
    "tokenizer = MarianTokenizer.from_pretrained(model_path)\n",
    "\n",
    "# TODO: Load the model using MarianMTModel.from_pretrained()\n",
    "# model = # YOUR CODE HERE\n",
    "# your code here\n",
    "model = MarianMTModel.from_pretrained(model_path)\n"
   ]
  },
  {
   "cell_type": "markdown",
   "id": "f1526641",
   "metadata": {
    "deletable": false,
    "editable": false,
    "nbgrader": {
     "cell_type": "markdown",
     "checksum": "9727d1a11115da11806f8702d636c9f6",
     "grade": false,
     "grade_id": "cell-5651cbf0f4df86f4",
     "locked": true,
     "schema_version": 3,
     "solution": false,
     "task": false
    }
   },
   "source": [
    "# Data Tokenizer\n",
    "\n",
    "The MarianTokenizer is specialized for neural machine translation tasks, designed specifically for the MarianMT model.\n",
    "\n",
    "It's based on SentencePiece, which uses subword segmentation to handle vocabulary challenges across languages.\n",
    "\n",
    "Key advantages of this tokenizer:\n",
    "1. Maintains separate vocabularies for source and target languages\n",
    "2. Handles special tokens differently for encoder (source) and decoder (target) inputs\n",
    "3. Uses the `as_target_tokenizer()` context manager to switch between source/target vocabulary\n",
    "\n",
    "For our English-French translation:\n",
    "- Source tokens (English) are processed normally\n",
    "- Target tokens (French) require the tokenizer to be in \"target mode\"\n",
    "- The tokenizer adds special tokens like <s>, </s> to indicate sequence boundaries\n",
    "- Labels for training need to be the tokenized French outputs\n",
    "\n",
    "Implement a function to tokenize the input and target texts:"
   ]
  },
  {
   "cell_type": "code",
   "execution_count": 5,
   "id": "adf794b2",
   "metadata": {
    "deletable": false,
    "nbgrader": {
     "cell_type": "code",
     "checksum": "5f6add705cb1f2dc6e0c07951349f736",
     "grade": false,
     "grade_id": "cell-ba255c8eba748682",
     "locked": false,
     "schema_version": 3,
     "solution": true,
     "task": false
    }
   },
   "outputs": [
    {
     "name": "stdout",
     "output_type": "stream",
     "text": [
      "4. Tokenizing the data...\n",
      "\n"
     ]
    },
    {
     "data": {
      "application/vnd.jupyter.widget-view+json": {
       "model_id": "01242a26b33c4a03828d1afc3f015e5a",
       "version_major": 2,
       "version_minor": 0
      },
      "text/plain": [
       "Map:   0%|          | 0/382 [00:00<?, ? examples/s]"
      ]
     },
     "metadata": {},
     "output_type": "display_data"
    },
    {
     "data": {
      "application/vnd.jupyter.widget-view+json": {
       "model_id": "4e3805b7db7e4aec86f2eee5aaf7d1e1",
       "version_major": 2,
       "version_minor": 0
      },
      "text/plain": [
       "Map:   0%|          | 0/68 [00:00<?, ? examples/s]"
      ]
     },
     "metadata": {},
     "output_type": "display_data"
    },
    {
     "data": {
      "application/vnd.jupyter.widget-view+json": {
       "model_id": "b2da64da4d5046b58bb96b7cb4cdafaa",
       "version_major": 2,
       "version_minor": 0
      },
      "text/plain": [
       "Map:   0%|          | 0/50 [00:00<?, ? examples/s]"
      ]
     },
     "metadata": {},
     "output_type": "display_data"
    }
   ],
   "source": [
    "print(\"4. Tokenizing the data...\\n\")\n",
    "\n",
    "def tokenize_function(batch):\n",
    "    \"\"\"Tokenize the source and target texts.\"\"\"\n",
    "    # TODO: Tokenize English inputs\n",
    "    # HINT: Use tokenizer() with max_length=128, padding=False, truncation=True\n",
    "    # model_inputs = # YOUR CODE HERE\n",
    "    # your code here\n",
    "    model_inputs = tokenizer(batch[\"en\"], max_length=128, padding=False, truncation=True)\n",
    "\n",
    "    # TODO: Tokenize French outputs (targets)\n",
    "    # HINT: Use tokenizer.as_target_tokenizer() context manager\n",
    "    with tokenizer.as_target_tokenizer():\n",
    "        # YOUR CODE HERE to create labels using tokenizer()\n",
    "        # labels = None  # Replace with your code\n",
    "        # your code here\n",
    "        labels = tokenizer(batch[\"fr\"], max_length=128, padding=False, truncation=True)\n",
    "\n",
    "    # TODO: Add the tokenized labels to model_inputs\n",
    "    # model_inputs[\"labels\"] = # YOUR CODE HERE\n",
    "    # your code here\n",
    "    model_inputs[\"labels\"] = labels[\"input_ids\"]\n",
    "    \n",
    "    return model_inputs\n",
    "\n",
    "# Apply tokenization\n",
    "train_tokenized = train_dataset.map(tokenize_function, batched=True)\n",
    "valid_tokenized = valid_dataset.map(tokenize_function, batched=True)\n",
    "test_tokenized = test_dataset.map(tokenize_function, batched=True)\n"
   ]
  },
  {
   "cell_type": "code",
   "execution_count": 6,
   "id": "bc70dfb5",
   "metadata": {
    "deletable": false,
    "editable": false,
    "nbgrader": {
     "cell_type": "code",
     "checksum": "bf397a156c5c4886335af9a96183a83d",
     "grade": true,
     "grade_id": "cell-e8b4e2ca84e8fca0",
     "locked": true,
     "points": 1,
     "schema_version": 3,
     "solution": false,
     "task": false
    }
   },
   "outputs": [],
   "source": [
    "# Test for tokenize function\n",
    "def test_tokenize():\n",
    "    sample = {'en': ['Hello world'], 'fr': ['Bonjour le monde']}\n",
    "    result = tokenize_function(sample)\n",
    "    assert 'input_ids' in result, \"Tokenized output missing input_ids\"\n",
    "    assert 'attention_mask' in result, \"Tokenized output missing attention_mask\"\n",
    "    assert 'labels' in result, \"Tokenized output missing labels\"\n",
    "    assert len(result['input_ids'][0]) > 0, \"Input ids should not be empty\"\n",
    "    assert len(result['labels'][0]) > 0, \"Labels should not be empty\"\n",
    "\n",
    "test_tokenize()"
   ]
  },
  {
   "cell_type": "markdown",
   "id": "ca1e1e70",
   "metadata": {
    "deletable": false,
    "editable": false,
    "nbgrader": {
     "cell_type": "markdown",
     "checksum": "80df0ef3bdb66d6899ccdee71efd5707",
     "grade": false,
     "grade_id": "cell-39baaba6ff8f0068",
     "locked": true,
     "schema_version": 3,
     "solution": false,
     "task": false
    }
   },
   "source": [
    "# Evaluation Metrics Setup\n",
    "\n",
    "BLEU (Bilingual Evaluation Understudy) is the most widely used metric for evaluating machine translation quality.\n",
    "\n",
    "How BLEU works:\n",
    "1. It measures the precision of n-grams (sequences of n consecutive words) between the machine translation and reference translations\n",
    "2. It applies a \"brevity penalty\" to penalize translations that are too short\n",
    "3. It combines scores from different n-gram sizes (usually 1-gram to 4-gram)\n",
    "\n",
    "Key characteristics:\n",
    "- BLEU ranges from 0 to 100, where higher scores indicate better translations\n",
    "- A perfect 100 would require an exact match with the reference, which is rare even for human translators\n",
    "- Scores in the 30-40 range are typically considered good for language pairs like English-French\n",
    "- BLEU has limitations: it's based purely on lexical matching and doesn't account for semantic equivalence\n",
    "\n",
    "In our implementation, the BLEU computation:\n",
    "- Converts model outputs from token ids back to text using the tokenizer\n",
    "- Properly formats predictions and references for the metric\n",
    "- Handles post-processing to ensure fair comparison (stripping whitespace, etc.)\n",
    "- Uses the sacrebleu implementation for standardized scoring\n",
    "\n",
    "Set up the BLEU metric for evaluating translation quality:"
   ]
  },
  {
   "cell_type": "code",
   "execution_count": 7,
   "id": "06c3484d",
   "metadata": {
    "deletable": false,
    "nbgrader": {
     "cell_type": "code",
     "checksum": "f25132eb471cc9d69dda6aadea592494",
     "grade": false,
     "grade_id": "cell-2b276277ebc8b9f9",
     "locked": false,
     "schema_version": 3,
     "solution": true,
     "task": false
    }
   },
   "outputs": [
    {
     "name": "stdout",
     "output_type": "stream",
     "text": [
      "5. Setting up evaluation metrics...\n",
      "\n"
     ]
    }
   ],
   "source": [
    "print(\"5. Setting up evaluation metrics...\\n\")\n",
    "bleu_metric = load(\"./sacrebleu\")\n",
    "\n",
    "def postprocess_text(preds, labels):\n",
    "    \"\"\"Post-process the decoded text.\"\"\"\n",
    "    # TODO: Strip whitespace from predictions and labels\n",
    "    # HINT: Use list comprehensions with strip() method\n",
    "    # preds = # YOUR CODE HERE\n",
    "    # labels = # YOUR CODE HERE\n",
    "    # your code here\n",
    "    preds = [pred.strip() for pred in preds]\n",
    "    labels = [label.strip() for label in labels]\n",
    "    \n",
    "    return preds, labels\n",
    "\n",
    "def compute_metrics(eval_preds):\n",
    "    \"\"\"Compute BLEU score for model evaluation.\"\"\"\n",
    "    preds, labels = eval_preds\n",
    "    if isinstance(preds, tuple):\n",
    "        preds = preds[0]\n",
    "\n",
    "    # During evaluation, preds contains logits\n",
    "    # TODO: Convert logits to token ids using argmax\n",
    "    # pred_ids = # YOUR CODE HERE\n",
    "    # your code here\n",
    "    pred_ids = np.argmax(preds, axis=-1)\n",
    "    \n",
    "    # TODO: Decode the token ids to strings\n",
    "    # HINT: Use tokenizer.batch_decode() with skip_special_tokens=True\n",
    "    # decoded_preds = # YOUR CODE HERE\n",
    "    # your code here\n",
    "    decoded_preds = tokenizer.batch_decode(pred_ids, skip_special_tokens=True)\n",
    "    \n",
    "    # TODO: Replace -100 in labels with pad_token_id\n",
    "    # HINT: Use np.where()\n",
    "    # labels = # YOUR CODE HERE\n",
    "    # your code here\n",
    "    labels = np.where(labels != -100, labels, tokenizer.pad_token_id)\n",
    "    \n",
    "    decoded_labels = tokenizer.batch_decode(labels, skip_special_tokens=True)\n",
    "\n",
    "    # Postprocess\n",
    "    decoded_preds, decoded_labels = postprocess_text(decoded_preds, decoded_labels)\n",
    "\n",
    "    # TODO: Compute BLEU score using the bleu_metric\n",
    "    # HINT: bleu_metric.compute() takes predictions and references as parameters\n",
    "    # result = # YOUR CODE HERE\n",
    "    # your code here\n",
    "    result = bleu_metric.compute(predictions=decoded_preds, references=[[label] for label in decoded_labels])\n",
    "\n",
    "    return {\"bleu\": result[\"score\"]}\n"
   ]
  },
  {
   "cell_type": "code",
   "execution_count": 8,
   "id": "ad7ef822",
   "metadata": {
    "deletable": false,
    "editable": false,
    "nbgrader": {
     "cell_type": "code",
     "checksum": "1bd8ba07d87ada87ba96846b22d094bf",
     "grade": true,
     "grade_id": "cell-b758025161f41cf9",
     "locked": true,
     "points": 1,
     "schema_version": 3,
     "solution": false,
     "task": false
    }
   },
   "outputs": [],
   "source": [
    "# Test for postprocess_text function\n",
    "test_preds = [\" This is a test \"]\n",
    "test_labels = [\" C'est un test \"]\n",
    "clean_preds, clean_labels = postprocess_text(test_preds, test_labels)\n",
    "\n",
    "assert clean_preds == [\"This is a test\"], \"Predictions not properly cleaned\"\n",
    "assert clean_labels == [\"C'est un test\"], \"Labels not properly cleaned\""
   ]
  },
  {
   "cell_type": "code",
   "execution_count": 9,
   "id": "d3fb6b5c",
   "metadata": {
    "deletable": false,
    "editable": false,
    "nbgrader": {
     "cell_type": "code",
     "checksum": "75ce3546460a7e85467192de0fa1b451",
     "grade": true,
     "grade_id": "cell-aaa55049ed8f3f1a",
     "locked": true,
     "points": 1,
     "schema_version": 3,
     "solution": false,
     "task": false
    }
   },
   "outputs": [],
   "source": [
    "# Test for compute_metrics (simple case)\n",
    "import numpy as np\n",
    "test_preds = np.array([[[0.1, 0.2, 0.7], [0.8, 0.1, 0.1]]])  # Simple logits for 2 tokens\n",
    "test_labels = np.array([[1, 2]])  # Simple label ids\n",
    "result = compute_metrics((test_preds, test_labels))\n",
    "assert 'bleu' in result, \"BLEU score not calculated\"\n",
    "assert isinstance(result['bleu'], float), \"BLEU should be a float\""
   ]
  },
  {
   "cell_type": "markdown",
   "id": "05ebd668",
   "metadata": {
    "deletable": false,
    "editable": false,
    "nbgrader": {
     "cell_type": "markdown",
     "checksum": "1e7e09bf642e1de3703c27938925f91a",
     "grade": false,
     "grade_id": "cell-bc0ea2d216baa06c",
     "locked": true,
     "schema_version": 3,
     "solution": false,
     "task": false
    }
   },
   "source": [
    "# Training Arguments\n",
    "\n",
    "The Hugging Face Trainer handles all the complexity of training sequence-to-sequence models:\n",
    "\n",
    "Key components of our training setup:\n",
    "1. DataCollatorForSeq2Seq - This specialized data collator:\n",
    "   - Dynamically pads sequences to the same length within each batch\n",
    "   - Handles the creation of attention masks to ignore padding tokens\n",
    "   - Creates the shifted input/output pairs needed for teacher forcing in sequence generation\n",
    "\n",
    "2. TrainingArguments - We've configured:\n",
    "   - Learning rate (2e-5): Carefully chosen to be small enough for fine-tuning pretrained weights\n",
    "   - Batch size (8): Balanced for memory constraints while maintaining training stability\n",
    "   - Weight decay (0.01): Helps prevent overfitting by penalizing large weights\n",
    "   - Evaluation strategy (\"epoch\"): Evaluates on validation data after each epoch\n",
    "   - Save strategy (\"epoch\"): Saves model checkpoints after each epoch\n",
    "   - FP16 training: Uses mixed precision when available to speed up training\n",
    "\n",
    "3. Training loop (handled internally by Trainer):\n",
    "   - Forward pass: Computes model predictions and loss\n",
    "   - Backward pass: Calculates gradients through backpropagation\n",
    "   - Optimization: Updates model weights using the AdamW optimizer\n",
    "   - Learning rate scheduling: Gradually decreases learning rate over time\n",
    "   - Evaluation: Computes metrics on validation data\n",
    "   - Early stopping: Monitors validation metrics and stops training if no improvement\n",
    "\n",
    "4. Training monitoring:\n",
    "   - Loss is tracked for both training and validation sets\n",
    "   - BLEU score is calculated on validation data after each epoch\n",
    "   - Best model is saved based on highest BLEU score\n",
    "\n",
    "Configure the training parameters:"
   ]
  },
  {
   "cell_type": "code",
   "execution_count": 10,
   "id": "967a9bd9",
   "metadata": {
    "deletable": false,
    "editable": false,
    "nbgrader": {
     "cell_type": "code",
     "checksum": "b57267257278615d303dbfc714211a55",
     "grade": false,
     "grade_id": "cell-3e92915eb5cfc61f",
     "locked": true,
     "schema_version": 3,
     "solution": false,
     "task": false
    }
   },
   "outputs": [
    {
     "name": "stdout",
     "output_type": "stream",
     "text": [
      "7. Setting up training parameters...\n",
      "\n"
     ]
    }
   ],
   "source": [
    "# 7. Training Arguments\n",
    "\n",
    "data_collator = DataCollatorForSeq2Seq(\n",
    "    tokenizer=tokenizer,\n",
    "    model=model\n",
    ")\n",
    "\n",
    "print(\"7. Setting up training parameters...\\n\")\n",
    "training_args = TrainingArguments(\n",
    "    output_dir=f\"results/marian-finetuned-en-fr-{datetime.now().strftime('%Y%m%d-%H%M%S')}\",\n",
    "    overwrite_output_dir=True,\n",
    "    num_train_epochs=3,\n",
    "    per_device_train_batch_size=8,\n",
    "    per_device_eval_batch_size=8,\n",
    "    learning_rate=2e-5,\n",
    "    weight_decay=0.01,\n",
    "    save_total_limit=2,\n",
    "    save_strategy=\"epoch\",\n",
    "    evaluation_strategy=\"epoch\",\n",
    "    logging_dir=\"logs\",\n",
    "    logging_steps=50,\n",
    "    load_best_model_at_end=True,\n",
    "    metric_for_best_model=\"bleu\",\n",
    "    greater_is_better=True,\n",
    "    fp16=torch.cuda.is_available(),  # Use mixed precision if GPU is available\n",
    "    report_to=\"none\"  # Disable wandb or other logging\n",
    ")"
   ]
  },
  {
   "cell_type": "markdown",
   "id": "5d317b6e",
   "metadata": {
    "deletable": false,
    "editable": false,
    "nbgrader": {
     "cell_type": "markdown",
     "checksum": "de544e21f6d12e3dc8147aa5dd021b62",
     "grade": false,
     "grade_id": "cell-1dc6166de12d9788",
     "locked": true,
     "schema_version": 3,
     "solution": false,
     "task": false
    }
   },
   "source": [
    "# Initialize trainer\n",
    "\n",
    "Set up the Trainer with the model, datasets, and other components:"
   ]
  },
  {
   "cell_type": "code",
   "execution_count": 11,
   "id": "37b3b9b3",
   "metadata": {
    "deletable": false,
    "editable": false,
    "nbgrader": {
     "cell_type": "code",
     "checksum": "5190ce3aef59ac232b2ef7261d833c18",
     "grade": false,
     "grade_id": "cell-edff34c2f502297c",
     "locked": true,
     "schema_version": 3,
     "solution": false,
     "task": false
    }
   },
   "outputs": [
    {
     "name": "stdout",
     "output_type": "stream",
     "text": [
      "8. Initializing trainer...\n",
      "\n"
     ]
    }
   ],
   "source": [
    "# 8. Initialize trainer\n",
    "\n",
    "print(\"8. Initializing trainer...\\n\")\n",
    "trainer = Trainer(\n",
    "    model=model,\n",
    "    args=training_args,\n",
    "    train_dataset=train_tokenized,\n",
    "    eval_dataset=valid_tokenized,\n",
    "    tokenizer=tokenizer,\n",
    "    data_collator=data_collator,\n",
    "    compute_metrics=compute_metrics,\n",
    "    callbacks=[EarlyStoppingCallback(early_stopping_patience=3)]\n",
    ")"
   ]
  },
  {
   "cell_type": "markdown",
   "id": "5fca2519",
   "metadata": {
    "deletable": false,
    "editable": false,
    "nbgrader": {
     "cell_type": "markdown",
     "checksum": "8c96f34f6f99726e3f3a26936fae2c40",
     "grade": false,
     "grade_id": "cell-a915553b3aa1b977",
     "locked": true,
     "schema_version": 3,
     "solution": false,
     "task": false
    }
   },
   "source": [
    "# Training\n",
    "\n",
    "Train the model using the trainer"
   ]
  },
  {
   "cell_type": "code",
   "execution_count": 12,
   "id": "6f5441d9",
   "metadata": {
    "deletable": false,
    "nbgrader": {
     "cell_type": "code",
     "checksum": "fc637f51aa82e244541e4b27c79b6c78",
     "grade": false,
     "grade_id": "cell-488081c2c1c0657e",
     "locked": false,
     "schema_version": 3,
     "solution": true,
     "task": false
    }
   },
   "outputs": [
    {
     "name": "stdout",
     "output_type": "stream",
     "text": [
      "9. Starting training...\n",
      "\n"
     ]
    },
    {
     "data": {
      "text/html": [
       "\n",
       "    <div>\n",
       "      \n",
       "      <progress value='144' max='144' style='width:300px; height:20px; vertical-align: middle;'></progress>\n",
       "      [144/144 06:14, Epoch 3/3]\n",
       "    </div>\n",
       "    <table border=\"1\" class=\"dataframe\">\n",
       "  <thead>\n",
       " <tr style=\"text-align: left;\">\n",
       "      <th>Epoch</th>\n",
       "      <th>Training Loss</th>\n",
       "      <th>Validation Loss</th>\n",
       "      <th>Bleu</th>\n",
       "    </tr>\n",
       "  </thead>\n",
       "  <tbody>\n",
       "    <tr>\n",
       "      <td>1</td>\n",
       "      <td>No log</td>\n",
       "      <td>0.799942</td>\n",
       "      <td>26.814063</td>\n",
       "    </tr>\n",
       "    <tr>\n",
       "      <td>2</td>\n",
       "      <td>0.943500</td>\n",
       "      <td>0.753844</td>\n",
       "      <td>26.973677</td>\n",
       "    </tr>\n",
       "    <tr>\n",
       "      <td>3</td>\n",
       "      <td>0.644500</td>\n",
       "      <td>0.756105</td>\n",
       "      <td>27.433183</td>\n",
       "    </tr>\n",
       "  </tbody>\n",
       "</table><p>"
      ],
      "text/plain": [
       "<IPython.core.display.HTML object>"
      ]
     },
     "metadata": {},
     "output_type": "display_data"
    },
    {
     "name": "stderr",
     "output_type": "stream",
     "text": [
      "There were missing keys in the checkpoint model loaded: ['model.encoder.embed_tokens.weight', 'model.encoder.embed_positions.weight', 'model.decoder.embed_tokens.weight', 'model.decoder.embed_positions.weight', 'lm_head.weight'].\n"
     ]
    },
    {
     "data": {
      "text/plain": [
       "TrainOutput(global_step=144, training_loss=0.7194225523206923, metrics={'train_runtime': 386.4321, 'train_samples_per_second': 2.966, 'train_steps_per_second': 0.373, 'total_flos': 1726168301568.0, 'train_loss': 0.7194225523206923, 'epoch': 3.0})"
      ]
     },
     "execution_count": 12,
     "metadata": {},
     "output_type": "execute_result"
    }
   ],
   "source": [
    "print(\"9. Starting training...\\n\")\n",
    "# TODO: Call the train() method on the trainer - https://huggingface.co/docs/transformers/en/main_classes/trainer\n",
    "# your code here\n",
    "trainer.train()\n"
   ]
  },
  {
   "cell_type": "markdown",
   "id": "1cd6ebb8",
   "metadata": {
    "deletable": false,
    "editable": false,
    "nbgrader": {
     "cell_type": "markdown",
     "checksum": "b062e2d39cf149d6339ca6630efec6b2",
     "grade": false,
     "grade_id": "cell-0af09be50c7250c5",
     "locked": true,
     "schema_version": 3,
     "solution": false,
     "task": false
    }
   },
   "source": [
    "# Translation Examples\n",
    "\n",
    "Try out some translations with your fine-tuned model using the model.generate function. Remember that your model expects tokenized inputs for your test sentences."
   ]
  },
  {
   "cell_type": "code",
   "execution_count": 13,
   "id": "0bc9635e",
   "metadata": {
    "deletable": false,
    "nbgrader": {
     "cell_type": "code",
     "checksum": "8f88ddf5183ef2b03cab8ab9aba44fba",
     "grade": false,
     "grade_id": "cell-afd816fc1b4c496a",
     "locked": false,
     "schema_version": 3,
     "solution": true,
     "task": false
    }
   },
   "outputs": [
    {
     "name": "stdout",
     "output_type": "stream",
     "text": [
      "\n",
      "10. Trying out some translations...\n",
      "\n",
      "Translations:\n",
      "EN: Hi.\n",
      "FR: Bonjour.\n",
      "--------------------------------------------------\n",
      "EN: How are you doing?\n",
      "FR: Comment allez-vous ?\n",
      "--------------------------------------------------\n",
      "EN: I'm learning to use transformers for machine translation.\n",
      "FR: J'apprends à utiliser des transformateurs pour la traduction automatique.\n",
      "--------------------------------------------------\n",
      "EN: This model was fine-tuned on a small dataset of English to French sentences.\n",
      "FR: Ce modèle a été affiné sur un petit ensemble de données de phrases en français et en anglais.\n",
      "--------------------------------------------------\n"
     ]
    }
   ],
   "source": [
    "print(\"\\n10. Trying out some translations...\\n\")\n",
    "test_sentences = [\n",
    "    \"Hi.\",\n",
    "    \"How are you doing?\",\n",
    "    \"I'm learning to use transformers for machine translation.\",\n",
    "    \"This model was fine-tuned on a small dataset of English to French sentences.\"\n",
    "]\n",
    "\n",
    "print(\"Translations:\")\n",
    "for sentence in test_sentences:\n",
    "    # TODO: Tokenize the input sentence\n",
    "    # HINT: Use tokenizer() with return_tensors=\"pt\"\n",
    "    # inputs = # YOUR CODE HERE\n",
    "    # your code here\n",
    "    inputs = tokenizer(sentence, return_tensors=\"pt\", padding=True, truncation=True)\n",
    "    \n",
    "    # TODO: Generate translation using model.generate()\n",
    "    # outputs = # YOUR CODE HERE\n",
    "    # your code here\n",
    "    outputs = model.generate(**inputs)\n",
    "    \n",
    "    # TODO: Decode the generated token ids\n",
    "    # HINT: Use tokenizer.decode() with skip_special_tokens=True\n",
    "    # translation = # YOUR CODE HERE\n",
    "    # your code here\n",
    "    translation = tokenizer.decode(outputs[0], skip_special_tokens=True)\n",
    "\n",
    "    print(f\"EN: {sentence}\")\n",
    "    print(f\"FR: {translation}\")\n",
    "    print(\"-\" * 50)\n"
   ]
  },
  {
   "cell_type": "code",
   "execution_count": 14,
   "id": "e5cca693",
   "metadata": {
    "deletable": false,
    "editable": false,
    "nbgrader": {
     "cell_type": "code",
     "checksum": "3e469f2df76f276203b3d5e12b88fbd7",
     "grade": true,
     "grade_id": "cell-a513625e23a73e31",
     "locked": true,
     "points": 1,
     "schema_version": 3,
     "solution": false,
     "task": false
    }
   },
   "outputs": [],
   "source": [
    "# Test for translation\n",
    "test_sentence = \"Hello.\"\n",
    "inputs = tokenizer(test_sentence, return_tensors=\"pt\")\n",
    "assert 'input_ids' in inputs, \"Tokenized input missing input_ids\"\n",
    "assert 'attention_mask' in inputs, \"Tokenized input missing attention_mask\"\n",
    "\n",
    "outputs = model.generate(**inputs)\n",
    "assert outputs.shape[0] == 1, \"Should generate one translation\"\n",
    "assert outputs.shape[1] > 0, \"Generated output should not be empty\"\n",
    "\n",
    "translation = tokenizer.decode(outputs[0], skip_special_tokens=True)\n",
    "assert isinstance(translation, str), \"Translation should be a string\"\n",
    "assert len(translation) > 0, \"Translation should not be empty\""
   ]
  },
  {
   "cell_type": "markdown",
   "id": "6571ef4c",
   "metadata": {
    "deletable": false,
    "editable": false,
    "nbgrader": {
     "cell_type": "markdown",
     "checksum": "0dc6d51745d349dac5025be2ee2f706c",
     "grade": false,
     "grade_id": "cell-7e9512139ef55dd0",
     "locked": true,
     "schema_version": 3,
     "solution": false,
     "task": false
    }
   },
   "source": [
    "Implement a function to analyze translation errors and provide deeper insights into model performance"
   ]
  },
  {
   "cell_type": "markdown",
   "id": "f50bc13a",
   "metadata": {
    "deletable": false,
    "editable": false,
    "nbgrader": {
     "cell_type": "markdown",
     "checksum": "43b8d09b6623c63c0a28f9cbfd98d985",
     "grade": false,
     "grade_id": "cell-2ab39a775285803e",
     "locked": true,
     "schema_version": 3,
     "solution": false,
     "task": false
    }
   },
   "source": [
    "Understanding translation errors helps us improve model performance. Our error analysis:\n",
    "\n",
    "1. Error Classification Framework:\n",
    "   - Perfect/Near Perfect (BLEU > 80): Translations that are nearly indistinguishable from human references\n",
    "   - Minor Issues (BLEU 50-80): Good translations with minor word choice or grammar issues\n",
    "   - Major Errors (BLEU 20-50): Translations that preserve core meaning but have significant flaws\n",
    "   - Completely Wrong (BLEU < 20): Translations that fail to convey the original meaning\n",
    "\n",
    "2. Common Error Patterns in NMT:\n",
    "   - Lexical ambiguity: Words with multiple meanings translated incorrectly\n",
    "   - Structural differences: English and French sentence structures requiring reordering\n",
    "   - Rare words: Terms not frequently seen in training data often mistranslated\n",
    "   - Long-range dependencies: Failures to maintain relationships between distant words\n",
    "   - Cultural references: Idioms or culture-specific terms translated literally\n",
    "\n",
    "3. Analyzing Translation Quality vs. Input Complexity:\n",
    "   - Sentence length correlation: Longer sentences often have lower BLEU scores\n",
    "   - Impact of rare vocabulary: Sentences with uncommon terms show more errors\n",
    "   - Technical content: Specialized terminology presents greater challenges\n",
    "\n",
    "4. Visualization and Pattern Recognition:\n",
    "   - Sorted BLEU scores help identify thresholds of model capability\n",
    "   - Source length vs. BLEU plot reveals complexity tolerance\n",
    "   - Error category distribution provides a high-level assessment of model maturity\n",
    "\n",
    "This analysis helps identify specific areas for improvement, such as:\n",
    "- Augmenting training data with examples of problematic cases\n",
    "- Implementing special handling for named entities or technical terms\n",
    "- Revising preprocessing or tokenization strategies\n",
    "- Considering ensemble approaches for challenging sentence types"
   ]
  },
  {
   "cell_type": "code",
   "execution_count": 15,
   "id": "7ddfb248",
   "metadata": {
    "deletable": false,
    "nbgrader": {
     "cell_type": "code",
     "checksum": "a7786645faaa6595aea98b9b6e265015",
     "grade": false,
     "grade_id": "cell-67dc885ae30b145c",
     "locked": false,
     "schema_version": 3,
     "solution": true,
     "task": false
    }
   },
   "outputs": [
    {
     "name": "stdout",
     "output_type": "stream",
     "text": [
      "\n",
      "\n",
      "--- Error Analysis ---\n"
     ]
    }
   ],
   "source": [
    "def analyze_translation_errors(model, tokenizer, test_sentences, reference_translations=None):\n",
    "    \"\"\"\n",
    "    Analyze specific errors in translation with an optional comparison to reference translations.\n",
    "\n",
    "    Args:\n",
    "        model: The fine-tuned translation model\n",
    "        tokenizer: The corresponding tokenizer\n",
    "        test_sentences: List of sentences to translate\n",
    "        reference_translations: Optional list of reference translations\n",
    "\n",
    "    Returns:\n",
    "        DataFrame with source, translation, reference, and BLEU scores\n",
    "    \"\"\"\n",
    "    # TODO: Implement translation error analysis\n",
    "    # For each test sentence:\n",
    "    # 1. Translate it using the model\n",
    "    # 2. If reference translation is available, calculate BLEU score\n",
    "    # 3. Return a DataFrame with the results\n",
    "    \n",
    "    results = []\n",
    "    # YOUR CODE HERE\n",
    "    # your code here\n",
    "    from evaluate import load\n",
    "    import pandas as pd\n",
    "\n",
    "    bleu = load(\"sacrebleu\")\n",
    "\n",
    "    for i, sentence in enumerate(test_sentences):\n",
    "        inputs = tokenizer(sentence, return_tensors=\"pt\", padding=True, truncation=True)\n",
    "        outputs = model.generate(**inputs)\n",
    "        translation = tokenizer.decode(outputs[0], skip_special_tokens=True)\n",
    "\n",
    "        reference = reference_translations[i] if reference_translations else None\n",
    "        bleu_score = None\n",
    "\n",
    "        if reference:\n",
    "            bleu_result = bleu.compute(predictions=[translation], references=[[reference]])\n",
    "            bleu_score = round(bleu_result[\"score\"], 2)\n",
    "\n",
    "        results.append({\n",
    "            \"source\": sentence,\n",
    "            \"translation\": translation,\n",
    "            \"reference\": reference if reference else \"N/A\",\n",
    "            \"bleu\": bleu_score if reference else \"N/A\"\n",
    "        })\n",
    "    \n",
    "    return results\n",
    "\n",
    "# Run analysis if time permits\n",
    "print(\"\\n\\n--- Error Analysis ---\")\n",
    "# Define some challenging test sentences and reference translations\n",
    "# Run the analysis function\n",
    "# Visualize the results\n"
   ]
  },
  {
   "cell_type": "code",
   "execution_count": 16,
   "id": "ba70f3b0",
   "metadata": {
    "deletable": false,
    "editable": false,
    "nbgrader": {
     "cell_type": "code",
     "checksum": "1adac1b4c5b3144a4316bf051bd70d56",
     "grade": true,
     "grade_id": "cell-c7ccb0ea42dd4e92",
     "locked": true,
     "points": 1,
     "schema_version": 3,
     "solution": false,
     "task": false
    }
   },
   "outputs": [],
   "source": [
    "# Test for analyze_translation_errors function\n",
    "def test_analyze_translation_errors():\n",
    "    # Sample data for testing\n",
    "    sample_sentences = [\"Hello\", \"How are you?\"]\n",
    "    sample_references = [\"Bonjour\", \"Comment vas-tu?\"]\n",
    "\n",
    "    # Run the analysis function\n",
    "    results = analyze_translation_errors(model, tokenizer, sample_sentences, sample_references)\n",
    "\n",
    "    # Check basic structure and content\n",
    "    assert isinstance(results, list), \"Results should be a list\"\n",
    "    assert len(results) == len(sample_sentences), \"Should have results for all test sentences\"\n",
    "\n",
    "    for i, result in enumerate(results):\n",
    "        # Check all fields are present\n",
    "        assert \"source\" in result, \"Missing 'source' field in result\"\n",
    "        assert \"translation\" in result, \"Missing 'translation' field in result\"\n",
    "        assert \"reference\" in result, \"Missing 'reference' field in result\"\n",
    "        assert \"bleu\" in result, \"Missing 'bleu' field in result\"\n",
    "\n",
    "        # Check content\n",
    "        assert result[\"source\"] == sample_sentences[i], \"Source doesn't match input\"\n",
    "        assert isinstance(result[\"translation\"], str), \"Translation should be a string\"\n",
    "        assert len(result[\"translation\"]) > 0, \"Translation should not be empty\"\n",
    "\n",
    "        # Check BLEU score\n",
    "        if result[\"reference\"]:\n",
    "            assert isinstance(result[\"bleu\"], float), \"BLEU score should be a float\"\n",
    "\n",
    "test_analyze_translation_errors()"
   ]
  },
  {
   "cell_type": "code",
   "execution_count": 17,
   "id": "372fb9e1",
   "metadata": {
    "deletable": false,
    "editable": false,
    "nbgrader": {
     "cell_type": "code",
     "checksum": "1902ff59ad3841e6880d7b34c64fb5b1",
     "grade": false,
     "grade_id": "cell-eb7f0dc349dff89a",
     "locked": true,
     "schema_version": 3,
     "solution": false,
     "task": false
    }
   },
   "outputs": [
    {
     "name": "stdout",
     "output_type": "stream",
     "text": [
      "\n",
      "\n",
      "--- Error Analysis ---\n",
      "Translation Error Analysis:\n"
     ]
    },
    {
     "data": {
      "text/html": [
       "<div>\n",
       "<style scoped>\n",
       "    .dataframe tbody tr th:only-of-type {\n",
       "        vertical-align: middle;\n",
       "    }\n",
       "\n",
       "    .dataframe tbody tr th {\n",
       "        vertical-align: top;\n",
       "    }\n",
       "\n",
       "    .dataframe thead th {\n",
       "        text-align: right;\n",
       "    }\n",
       "</style>\n",
       "<table border=\"1\" class=\"dataframe\">\n",
       "  <thead>\n",
       "    <tr style=\"text-align: right;\">\n",
       "      <th></th>\n",
       "      <th>source</th>\n",
       "      <th>translation</th>\n",
       "      <th>reference</th>\n",
       "      <th>bleu</th>\n",
       "    </tr>\n",
       "  </thead>\n",
       "  <tbody>\n",
       "    <tr>\n",
       "      <th>0</th>\n",
       "      <td>Hi.</td>\n",
       "      <td>Bonjour.</td>\n",
       "      <td>Bonjour.</td>\n",
       "      <td>0.00</td>\n",
       "    </tr>\n",
       "    <tr>\n",
       "      <th>1</th>\n",
       "      <td>This is a simple test.</td>\n",
       "      <td>C'est un test simple.</td>\n",
       "      <td>C'est un test simple.</td>\n",
       "      <td>100.00</td>\n",
       "    </tr>\n",
       "    <tr>\n",
       "      <th>2</th>\n",
       "      <td>I don't think this will be difficult to transl...</td>\n",
       "      <td>Je ne pense pas que ce sera difficile à traduire.</td>\n",
       "      <td>Je ne pense pas que ce sera difficile à traduire.</td>\n",
       "      <td>100.00</td>\n",
       "    </tr>\n",
       "    <tr>\n",
       "      <th>3</th>\n",
       "      <td>The cat jumped over the lazy dog while the sun...</td>\n",
       "      <td>Le chat sauta sur le chien paresseux pendant q...</td>\n",
       "      <td>Le chat a sauté par-dessus le chien paresseux ...</td>\n",
       "      <td>56.55</td>\n",
       "    </tr>\n",
       "    <tr>\n",
       "      <th>4</th>\n",
       "      <td>Neural machine translation has revolutionized ...</td>\n",
       "      <td>La traduction automatique neurale a révolution...</td>\n",
       "      <td>La traduction automatique neuronale a révoluti...</td>\n",
       "      <td>82.82</td>\n",
       "    </tr>\n",
       "    <tr>\n",
       "      <th>5</th>\n",
       "      <td>The model might struggle with technical terms ...</td>\n",
       "      <td>Le modèle pourrait lutter avec des termes tech...</td>\n",
       "      <td>Le modèle pourrait avoir des difficultés avec ...</td>\n",
       "      <td>41.86</td>\n",
       "    </tr>\n",
       "  </tbody>\n",
       "</table>\n",
       "</div>"
      ],
      "text/plain": [
       "                                              source  \\\n",
       "0                                                Hi.   \n",
       "1                             This is a simple test.   \n",
       "2  I don't think this will be difficult to transl...   \n",
       "3  The cat jumped over the lazy dog while the sun...   \n",
       "4  Neural machine translation has revolutionized ...   \n",
       "5  The model might struggle with technical terms ...   \n",
       "\n",
       "                                         translation  \\\n",
       "0                                           Bonjour.   \n",
       "1                              C'est un test simple.   \n",
       "2  Je ne pense pas que ce sera difficile à traduire.   \n",
       "3  Le chat sauta sur le chien paresseux pendant q...   \n",
       "4  La traduction automatique neurale a révolution...   \n",
       "5  Le modèle pourrait lutter avec des termes tech...   \n",
       "\n",
       "                                           reference    bleu  \n",
       "0                                           Bonjour.    0.00  \n",
       "1                              C'est un test simple.  100.00  \n",
       "2  Je ne pense pas que ce sera difficile à traduire.  100.00  \n",
       "3  Le chat a sauté par-dessus le chien paresseux ...   56.55  \n",
       "4  La traduction automatique neuronale a révoluti...   82.82  \n",
       "5  Le modèle pourrait avoir des difficultés avec ...   41.86  "
      ]
     },
     "metadata": {},
     "output_type": "display_data"
    },
    {
     "name": "stdout",
     "output_type": "stream",
     "text": [
      "\n",
      "Error Categories:\n",
      "Perfect/Near Perfect: 3\n",
      "Minor Issues: 1\n",
      "Major Errors: 1\n",
      "Completely Wrong: 1\n"
     ]
    },
    {
     "data": {
      "image/png": "[encoded data removed]",
      "text/plain": [
       "<Figure size 1000x600 with 1 Axes>"
      ]
     },
     "metadata": {},
     "output_type": "display_data"
    },
    {
     "data": {
      "image/png": "[encoded data removed]",
      "text/plain": [
       "<Figure size 1000x600 with 1 Axes>"
      ]
     },
     "metadata": {},
     "output_type": "display_data"
    }
   ],
   "source": [
    "print(\"\\n\\n--- Error Analysis ---\")\n",
    "\n",
    "\n",
    "# Test on a mix of simple and complex sentences\n",
    "test_sentences_for_analysis = [\n",
    "    \"Hi.\",\n",
    "    \"This is a simple test.\",\n",
    "    \"I don't think this will be difficult to translate.\",\n",
    "    \"The cat jumped over the lazy dog while the sun was setting behind the mountains.\",\n",
    "    \"Neural machine translation has revolutionized language processing by utilizing deep learning architectures.\",\n",
    "    \"The model might struggle with technical terms like eigen decomposition and hyperparameter optimization.\"\n",
    "]\n",
    "\n",
    "# Reference translations (you can add these if you have them)\n",
    "reference_translations = [\n",
    "    \"Bonjour.\",\n",
    "    \"C'est un test simple.\",\n",
    "    \"Je ne pense pas que ce sera difficile à traduire.\",\n",
    "    \"Le chat a sauté par-dessus le chien paresseux pendant que le soleil se couchait derrière les montagnes.\",\n",
    "    \"La traduction automatique neuronale a révolutionné le traitement des langues en utilisant des architectures d'apprentissage profond.\",\n",
    "    \"Le modèle pourrait avoir des difficultés avec des termes techniques comme la décomposition propre et l'optimisation des hyperparamètres.\"\n",
    "]\n",
    "\n",
    "# Run the analysis\n",
    "error_analysis_results = analyze_translation_errors(model, tokenizer, test_sentences_for_analysis, reference_translations)\n",
    "\n",
    "# Display results as a table\n",
    "error_df = pd.DataFrame(error_analysis_results)\n",
    "print(\"Translation Error Analysis:\")\n",
    "display(error_df)\n",
    "\n",
    "# Categorize errors (basic analysis)\n",
    "print(\"\\nError Categories:\")\n",
    "categories = {\n",
    "    \"Perfect/Near Perfect\": 0,\n",
    "    \"Minor Issues\": 0,\n",
    "    \"Major Errors\": 0,\n",
    "    \"Completely Wrong\": 0\n",
    "}\n",
    "\n",
    "# Threshold values for categorization (can be adjusted)\n",
    "for result in error_analysis_results:\n",
    "    if result[\"bleu\"] is None:\n",
    "        continue\n",
    "\n",
    "    if result[\"bleu\"] > 80:\n",
    "        categories[\"Perfect/Near Perfect\"] += 1\n",
    "    elif result[\"bleu\"] > 50:\n",
    "        categories[\"Minor Issues\"] += 1\n",
    "    elif result[\"bleu\"] > 20:\n",
    "        categories[\"Major Errors\"] += 1\n",
    "    else:\n",
    "        categories[\"Completely Wrong\"] += 1\n",
    "\n",
    "# Display error categories\n",
    "for category, count in categories.items():\n",
    "    print(f\"{category}: {count}\")\n",
    "\n",
    "# Optional: Visualize the results\n",
    "try:\n",
    "    import matplotlib.pyplot as plt\n",
    "\n",
    "    # Sort by BLEU score to identify patterns\n",
    "    error_df_sorted = error_df.sort_values(by=\"bleu\")\n",
    "\n",
    "    # Plot BLEU scores\n",
    "    plt.figure(figsize=(10, 6))\n",
    "    plt.bar(range(len(error_df_sorted)), error_df_sorted[\"bleu\"])\n",
    "    plt.xlabel(\"Sentence Index (Sorted by BLEU)\")\n",
    "    plt.ylabel(\"BLEU Score\")\n",
    "    plt.title(\"Translation Quality by BLEU Score\")\n",
    "    plt.tight_layout()\n",
    "    plt.show()\n",
    "\n",
    "    # Plot sentence length vs. BLEU score\n",
    "    plt.figure(figsize=(10, 6))\n",
    "    error_df[\"source_length\"] = error_df[\"source\"].apply(len)\n",
    "    plt.scatter(error_df[\"source_length\"], error_df[\"bleu\"])\n",
    "    plt.xlabel(\"Source Sentence Length (characters)\")\n",
    "    plt.ylabel(\"BLEU Score\")\n",
    "    plt.title(\"Translation Quality vs. Sentence Length\")\n",
    "    plt.tight_layout()\n",
    "    plt.show()\n",
    "\n",
    "except ImportError:\n",
    "    print(\"Matplotlib not available for visualization\")"
   ]
  },
  {
   "cell_type": "code",
   "execution_count": null,
   "id": "0a8fcd29",
   "metadata": {},
   "outputs": [],
   "source": []
  }
 ],
 "metadata": {
  "kernelspec": {
   "display_name": "Python 3 (ipykernel)",
   "language": "python",
   "name": "python3"
  },
  "language_info": {
   "codemirror_mode": {
    "name": "ipython",
    "version": 3
   },
   "file_extension": ".py",
   "mimetype": "text/x-python",
   "name": "python",
   "nbconvert_exporter": "python",
   "pygments_lexer": "ipython3",
   "version": "3.10.6"
  }
 },
 "nbformat": 4,
 "nbformat_minor": 5
}
